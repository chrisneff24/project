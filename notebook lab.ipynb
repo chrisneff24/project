{
    "cells": [
        {
            "metadata": {
                "collapsed": true
            },
            "cell_type": "markdown",
            "source": "# My Jupyter Notebook on IBM Watson Studio"
        },
        {
            "metadata": {},
            "cell_type": "markdown",
            "source": "**Christopher R Neff**\n   Robotic Engineer"
        },
        {
            "metadata": {},
            "cell_type": "markdown",
            "source": "*I intersted in data science because I hope to use it for deep learning for robotics*"
        },
        {
            "metadata": {},
            "cell_type": "markdown",
            "source": "### the code in cell 5 adds two numeric numbers"
        },
        {
            "metadata": {},
            "cell_type": "code",
            "source": "1 + 1",
            "execution_count": 1,
            "outputs": [
                {
                    "output_type": "execute_result",
                    "execution_count": 1,
                    "data": {
                        "text/plain": "2"
                    },
                    "metadata": {}
                }
            ]
        },
        {
            "metadata": {},
            "cell_type": "markdown",
            "source": "1. milk\n2. eggs\n3. buttler\n\n*milk\n*eggs\n*bread\n\nin the words of myself\n> robots will think for themselfs"
        }
    ],
    "metadata": {
        "kernelspec": {
            "name": "python3",
            "display_name": "Python 3.6",
            "language": "python"
        },
        "language_info": {
            "name": "python",
            "version": "3.6.9",
            "mimetype": "text/x-python",
            "codemirror_mode": {
                "name": "ipython",
                "version": 3
            },
            "pygments_lexer": "ipython3",
            "nbconvert_exporter": "python",
            "file_extension": ".py"
        }
    },
    "nbformat": 4,
    "nbformat_minor": 1
}